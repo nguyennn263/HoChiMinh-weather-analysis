{
 "cells": [
  {
   "cell_type": "code",
   "execution_count": 1,
   "id": "bf787617",
   "metadata": {},
   "outputs": [],
   "source": [
    "import time\n",
    "import pandas as pd\n",
    "from selenium import webdriver\n",
    "from selenium.webdriver.common.by import By\n",
    "from selenium.webdriver.support.ui import Select, WebDriverWait\n",
    "from selenium.webdriver.support import expected_conditions as EC\n",
    "from webdriver_manager.chrome import ChromeDriverManager\n",
    "from selenium.webdriver.chrome.service import Service\n",
    "from datetime import datetime, timedelta"
   ]
  },
  {
   "cell_type": "code",
   "execution_count": null,
   "id": "19960364",
   "metadata": {},
   "outputs": [],
   "source": [
    "\n",
    "def scrape_weather(year, month):\n",
    "    url = f\"https://www.timeanddate.com/weather/vietnam/ho-chi-minh/historic?month={month}&year={year}\"\n",
    "\n",
    "    options = webdriver.ChromeOptions()\n",
    "    driver = webdriver.Chrome(service=Service(ChromeDriverManager().install()), options=options)\n",
    "\n",
    "    driver.get(url)\n",
    "    wait = WebDriverWait(driver, 5)\n",
    "\n",
    "    select_element = Select(wait.until(EC.element_to_be_clickable((By.ID, 'wt-his-select'))))\n",
    "\n",
    "    data = []\n",
    "    for option in select_element.options:\n",
    "        option_date = option.get_attribute('value')\n",
    "        select_element.select_by_value(option_date)\n",
    "\n",
    "        wait.until(EC.presence_of_element_located((By.CSS_SELECTOR, \"table#wt-his tbody tr\")))\n",
    "        time.sleep(1)\n",
    "\n",
    "        rows = driver.find_elements(By.CSS_SELECTOR, \"table#wt-his tbody tr\")\n",
    "        current_date = pd.to_datetime(option_date, format='%Y%m%d').date()\n",
    "\n",
    "        for row in rows:\n",
    "            columns = row.find_elements(By.TAG_NAME, \"td\")\n",
    "            if len(columns) == 0:\n",
    "                continue\n",
    "\n",
    "            time_of_day = row.find_element(By.TAG_NAME, \"th\").text.strip()\n",
    "\n",
    "            if time_of_day == \"00:00\":\n",
    "                continue\n",
    "\n",
    "            temp = columns[1].text.replace(\"\\u00a0°C\", \"\").strip()\n",
    "            weather = columns[2].text.strip()\n",
    "            wind = columns[3].text.strip()\n",
    "            wind_direction_element = columns[4].find_elements(By.TAG_NAME, \"span\")\n",
    "            wind_direction = wind_direction_element[0].get_attribute(\"title\") if wind_direction_element else \"\"\n",
    "            humidity = columns[5].text.strip()\n",
    "            barometer = columns[6].text.strip()\n",
    "            visibility = columns[7].text.strip().replace(\"N/A\", \"\")\n",
    "\n",
    "            data.append({\n",
    "                \"Date\": current_date,\n",
    "                \"Time\": time_of_day,\n",
    "                \"Temperature (°C)\": temp,\n",
    "                \"Weather\": weather,\n",
    "                \"Wind\": wind,\n",
    "                \"Wind Direction\": wind_direction,\n",
    "                \"Humidity\": humidity,\n",
    "                \"Barometer (mbar)\": barometer,\n",
    "                \"Visibility (km)\": visibility,\n",
    "            })\n",
    "\n",
    "    driver.quit()\n",
    "    return pd.DataFrame(data)"
   ]
  },
  {
   "cell_type": "code",
   "execution_count": 3,
   "id": "30de8480",
   "metadata": {},
   "outputs": [
    {
     "name": "stdout",
     "output_type": "stream",
     "text": [
      "Scraping data for 2015-01\n",
      "Scraping data for 2015-02\n"
     ]
    }
   ],
   "source": [
    "start_date = datetime(2015, 1, 1)\n",
    "end_date = datetime(2015, 2, 1)\n",
    "all_data = pd.DataFrame()\n",
    "\n",
    "while start_date <= end_date:\n",
    "    print(f\"Scraping data for {start_date.strftime('%Y-%m')}\")\n",
    "    monthly_df = scrape_weather(start_date.year, start_date.month)\n",
    "    all_data = pd.concat([all_data, monthly_df], ignore_index=True)\n",
    "    start_date += timedelta(days=32)\n",
    "    start_date = start_date.replace(day=1)"
   ]
  },
  {
   "cell_type": "code",
   "execution_count": 5,
   "id": "f60c636e",
   "metadata": {},
   "outputs": [
    {
     "name": "stdout",
     "output_type": "stream",
     "text": [
      "         Date               Time Temperature (°C)          Weather    Wind  \\\n",
      "0  2015-01-01  00:00\\nThu, 1 Jan            25 °C  Passing clouds.  4 km/h   \n",
      "1  2015-01-01              00:30            24 °C  Passing clouds.  4 km/h   \n",
      "2  2015-01-01              01:00            25 °C  Passing clouds.  4 km/h   \n",
      "3  2015-01-01              01:30            24 °C  Passing clouds.  4 km/h   \n",
      "4  2015-01-01              02:00            24 °C  Passing clouds.  6 km/h   \n",
      "\n",
      "                                      Wind Direction Humidity  \\\n",
      "0  Wind blowing from 240° West-southwest to East-...      69%   \n",
      "1                Wind blowing from 0° North to South      74%   \n",
      "2  Wind blowing from 290° West-northwest to East-...      74%   \n",
      "3  Wind blowing from 300° West-northwest to East-...      78%   \n",
      "4      Wind blowing from 320° Northwest to Southeast      78%   \n",
      "\n",
      "  Barometer (mbar) Visibility (km)  \n",
      "0        1013 mbar            7 km  \n",
      "1        1012 mbar            7 km  \n",
      "2        1012 mbar            7 km  \n",
      "3        1012 mbar            7 km  \n",
      "4        1012 mbar            7 km  \n"
     ]
    }
   ],
   "source": [
    "all_data.to_csv(\"weather_data_2015_to_2017.csv\", index=False, encoding=\"utf-8-sig\")\n",
    "print(all_data.head())"
   ]
  }
 ],
 "metadata": {
  "kernelspec": {
   "display_name": "base",
   "language": "python",
   "name": "python3"
  },
  "language_info": {
   "codemirror_mode": {
    "name": "ipython",
    "version": 3
   },
   "file_extension": ".py",
   "mimetype": "text/x-python",
   "name": "python",
   "nbconvert_exporter": "python",
   "pygments_lexer": "ipython3",
   "version": "3.11.7"
  }
 },
 "nbformat": 4,
 "nbformat_minor": 5
}

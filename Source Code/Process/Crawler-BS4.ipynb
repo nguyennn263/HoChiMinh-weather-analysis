{
 "cells": [
  {
   "cell_type": "code",
   "execution_count": null,
   "id": "60dedb73",
   "metadata": {},
   "outputs": [
    {
     "name": "stdout",
     "output_type": "stream",
     "text": [
      "Scraping data for 2015-01 to 2017-01\n"
     ]
    },
    {
     "name": "stderr",
     "output_type": "stream",
     "text": [
      "Months: 100%|██████████| 25/25 [03:46<00:00,  9.08s/month]\n"
     ]
    },
    {
     "name": "stdout",
     "output_type": "stream",
     "text": [
      "Data saved to weather_data_2015_2017.csv\n",
      "Scraping data for 2017-01 to 2019-01\n"
     ]
    },
    {
     "name": "stderr",
     "output_type": "stream",
     "text": [
      "Months: 100%|██████████| 24/24 [03:14<00:00,  8.10s/month]\n"
     ]
    },
    {
     "name": "stdout",
     "output_type": "stream",
     "text": [
      "Data saved to weather_data_2017_2019.csv\n",
      "Scraping data for 2019-01 to 2021-01\n"
     ]
    },
    {
     "name": "stderr",
     "output_type": "stream",
     "text": [
      "Months: 100%|██████████| 24/24 [03:35<00:00,  8.98s/month]\n"
     ]
    },
    {
     "name": "stdout",
     "output_type": "stream",
     "text": [
      "Data saved to weather_data_2019_2021.csv\n",
      "Scraping data for 2021-01 to 2023-01\n"
     ]
    },
    {
     "name": "stderr",
     "output_type": "stream",
     "text": [
      "Months: 100%|██████████| 24/24 [03:44<00:00,  9.37s/month]\n"
     ]
    },
    {
     "name": "stdout",
     "output_type": "stream",
     "text": [
      "Data saved to weather_data_2021_2023.csv\n",
      "Scraping data for 2023-01 to 2025-01\n"
     ]
    },
    {
     "name": "stderr",
     "output_type": "stream",
     "text": [
      "Months: 100%|██████████| 24/24 [03:39<00:00,  9.15s/month]\n"
     ]
    },
    {
     "name": "stdout",
     "output_type": "stream",
     "text": [
      "Data saved to weather_data_2023_2025.csv\n",
      "Scraping data for 2025-01 to 2025-04\n"
     ]
    },
    {
     "name": "stderr",
     "output_type": "stream",
     "text": [
      "Months: 100%|██████████| 3/3 [00:20<00:00,  6.78s/month]"
     ]
    },
    {
     "name": "stdout",
     "output_type": "stream",
     "text": [
      "Data saved to weather_data_2025_2025.csv\n",
      "All batches processed.\n"
     ]
    },
    {
     "name": "stderr",
     "output_type": "stream",
     "text": [
      "\n"
     ]
    }
   ],
   "source": [
    "import requests\n",
    "from bs4 import BeautifulSoup\n",
    "import pandas as pd\n",
    "from datetime import datetime, timedelta\n",
    "from tqdm import tqdm  # Import tqdm\n",
    "\n",
    "def scrape_weather(year, month):\n",
    "    url = f\"https://www.timeanddate.com/weather/vietnam/ho-chi-minh/historic?month={month}&year={year}\"\n",
    "\n",
    "    # Gửi yêu cầu GET để tải trang\n",
    "    res = requests.get(url)\n",
    "    soup = BeautifulSoup(res.text, \"html.parser\")\n",
    "\n",
    "    # Tìm dropdown chứa các ngày\n",
    "    select_element = soup.find(\"select\", {\"id\": \"wt-his-select\"})\n",
    "    options = select_element.find_all(\"option\")\n",
    "\n",
    "    data = []\n",
    "    \n",
    "    # Lặp qua từng option (ngày) trong dropdown\n",
    "    for option in options:\n",
    "        option_date = option[\"value\"]\n",
    "        if option_date == \"\":  # Nếu không có giá trị, bỏ qua\n",
    "            continue\n",
    "        \n",
    "        # Tạo URL có tham số ngày để lấy dữ liệu cho từng ngày\n",
    "        url_for_day = f\"https://www.timeanddate.com/weather/vietnam/ho-chi-minh/historic?month={month}&year={year}&hd={option_date}\"\n",
    "        \n",
    "        # Lấy dữ liệu cho ngày cụ thể\n",
    "        res_day = requests.get(url_for_day)\n",
    "        soup_day = BeautifulSoup(res_day.text, \"html.parser\")\n",
    "        \n",
    "        # Trích xuất bảng dữ liệu thời tiết\n",
    "        table = soup_day.find(\"table\", {\"id\": \"wt-his\"})\n",
    "        if table:\n",
    "            rows = table.tbody.find_all(\"tr\")\n",
    "            for row in rows:\n",
    "                cols = row.find_all(\"td\")\n",
    "                if len(cols) == 0:\n",
    "                    continue\n",
    "\n",
    "                time_of_day = row.find(\"th\").text.strip()\n",
    "                if time_of_day == \"00:00\":\n",
    "                    continue\n",
    "                temp = cols[1].text.replace(\"°C\", \"\").strip()\n",
    "                weather = cols[2].text.strip()\n",
    "                wind = cols[3].text.strip()\n",
    "                wind_dir_tag = cols[4].find(\"span\")\n",
    "                wind_direction = wind_dir_tag[\"title\"] if wind_dir_tag and wind_dir_tag.has_attr(\"title\") else \"\"\n",
    "                humidity = cols[5].text.strip()\n",
    "                barometer = cols[6].text.strip()\n",
    "                visibility = cols[7].text.strip().replace(\"N/A\", \"\")\n",
    "\n",
    "                data.append({\n",
    "                    \"Date\": pd.to_datetime(option_date, format='%Y%m%d').date(),\n",
    "                    \"Time\": time_of_day,\n",
    "                    \"Temperature (°C)\": temp,\n",
    "                    \"Weather\": weather,\n",
    "                    \"Wind\": wind,\n",
    "                    \"Wind Direction\": wind_direction,\n",
    "                    \"Humidity\": humidity,\n",
    "                    \"Barometer (mbar)\": barometer,\n",
    "                    \"Visibility (km)\": visibility,\n",
    "                })\n",
    "    \n",
    "    return pd.DataFrame(data)\n",
    "\n",
    "\n",
    "# Giai đoạn tải dữ liệu chia thành batch 2 năm\n",
    "start_date = datetime(2015, 1, 1)\n",
    "end_date = datetime(2025, 4, 1)\n",
    "all_data = pd.DataFrame()\n",
    "\n",
    "# Dùng tqdm để hiển thị tiến trình cho từng batch\n",
    "while start_date <= end_date:\n",
    "    batch_end_date = start_date.replace(year=start_date.year + 2)\n",
    "    if batch_end_date > end_date:\n",
    "        batch_end_date = end_date\n",
    "\n",
    "    print(f\"Scraping data for {start_date.strftime('%Y-%m')} to {batch_end_date.strftime('%Y-%m')}\")\n",
    "    \n",
    "    # Thu thập dữ liệu cho khoảng thời gian hiện tại (2 năm)\n",
    "    batch_data = pd.DataFrame()\n",
    "    current_date = start_date\n",
    "    \n",
    "    # Dùng tqdm cho vòng lặp qua các tháng trong batch\n",
    "    for current_date in tqdm(pd.date_range(start=start_date, end=batch_end_date, freq='MS'), desc=\"Months\", unit=\"month\"):\n",
    "        monthly_df = scrape_weather(current_date.year, current_date.month)\n",
    "        batch_data = pd.concat([batch_data, monthly_df], ignore_index=True)\n",
    "    \n",
    "    # Lưu dữ liệu của batch vào file CSV riêng\n",
    "    batch_filename = f\"weather_data_{start_date.year}_{batch_end_date.year}.csv\"\n",
    "    batch_data.to_csv(batch_filename, index=False, encoding=\"utf-8\")\n",
    "    print(f\"Data saved to {batch_filename}\")\n",
    "    \n",
    "    # Cập nhật start_date cho batch tiếp theo\n",
    "    start_date = batch_end_date + timedelta(days=1)\n",
    "\n",
    "print(\"All batches processed.\")\n"
   ]
  }
 ],
 "metadata": {
  "kernelspec": {
   "display_name": "base",
   "language": "python",
   "name": "python3"
  },
  "language_info": {
   "codemirror_mode": {
    "name": "ipython",
    "version": 3
   },
   "file_extension": ".py",
   "mimetype": "text/x-python",
   "name": "python",
   "nbconvert_exporter": "python",
   "pygments_lexer": "ipython3",
   "version": "3.12.9"
  }
 },
 "nbformat": 4,
 "nbformat_minor": 5
}

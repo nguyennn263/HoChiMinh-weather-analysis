{
 "cells": [
  {
   "cell_type": "code",
   "execution_count": 14,
   "id": "1d591756",
   "metadata": {},
   "outputs": [
    {
     "name": "stdout",
     "output_type": "stream",
     "text": [
      "Fetching data from: http://api.openweathermap.org/data/2.5/air_pollution/history?lat=10.782&lon=106.6831&start=1514739600&end=1744218000&appid=2c6a5f02b58f55b5a5656cb232a18e56\n"
     ]
    },
    {
     "name": "stderr",
     "output_type": "stream",
     "text": [
      "/tmp/ipykernel_192272/113060696.py:30: DeprecationWarning: datetime.datetime.utcfromtimestamp() is deprecated and scheduled for removal in a future version. Use timezone-aware objects to represent datetimes in UTC: datetime.datetime.fromtimestamp(timestamp, datetime.UTC).\n",
      "  dt = datetime.utcfromtimestamp(entry[\"dt\"])\n"
     ]
    },
    {
     "name": "stdout",
     "output_type": "stream",
     "text": [
      "✅ Dữ liệu đã lưu vào openweather_aqi_hcm.csv\n"
     ]
    }
   ],
   "source": [
    "import requests\n",
    "import time\n",
    "from datetime import datetime\n",
    "import pandas as pd\n",
    "\n",
    "# --- Cấu hình ---\n",
    "API_KEY = \"2c6a5f02b58f55b5a5656cb232a18e56\"\n",
    "lat = 10.7820\n",
    "lon = 106.6831\n",
    "# Thời gian cần lấy\n",
    "start_date = datetime(2018, 1, 1)\n",
    "end_date   = datetime(2025, 4, 10)\n",
    "\n",
    "# Đổi sang Unix timestamp\n",
    "start_unix = int(start_date.timestamp())\n",
    "end_unix   = int(end_date.timestamp())\n",
    "\n",
    "# URL API\n",
    "url = f\"http://api.openweathermap.org/data/2.5/air_pollution/history?lat={lat}&lon={lon}&start={start_unix}&end={end_unix}&appid={API_KEY}\"\n",
    "\n",
    "# --- Gọi API ---\n",
    "print(\"Fetching data from:\", url)\n",
    "response = requests.get(url)\n",
    "\n",
    "if response.status_code == 200:\n",
    "    data = response.json()\n",
    "    records = []\n",
    "\n",
    "    for entry in data.get(\"list\", []):\n",
    "        dt = datetime.utcfromtimestamp(entry[\"dt\"])\n",
    "        aqi = entry[\"main\"][\"aqi\"]\n",
    "        components = entry[\"components\"]\n",
    "\n",
    "        record = {\n",
    "            \"datetime_utc\": dt,\n",
    "            \"aqi\": aqi,\n",
    "            **components\n",
    "        }\n",
    "        records.append(record)\n",
    "\n",
    "    df = pd.DataFrame(records)\n",
    "    df.to_csv(\"openweather_aqi_hcm2.csv\", index=False, encoding=\"utf-8\")\n",
    "    print(\"✅ Dữ liệu đã lưu vào openweather_aqi_hcm.csv\")\n",
    "else:\n",
    "    print(f\"❌ Lỗi khi gọi API: {response.status_code}\")\n",
    "    print(response.text)\n"
   ]
  }
 ],
 "metadata": {
  "kernelspec": {
   "display_name": "base",
   "language": "python",
   "name": "python3"
  },
  "language_info": {
   "codemirror_mode": {
    "name": "ipython",
    "version": 3
   },
   "file_extension": ".py",
   "mimetype": "text/x-python",
   "name": "python",
   "nbconvert_exporter": "python",
   "pygments_lexer": "ipython3",
   "version": "3.12.9"
  }
 },
 "nbformat": 4,
 "nbformat_minor": 5
}
